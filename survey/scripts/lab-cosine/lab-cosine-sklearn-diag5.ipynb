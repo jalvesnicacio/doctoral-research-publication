{
 "cells": [
  {
   "cell_type": "code",
   "execution_count": 18,
   "id": "ffc37db9-080c-413c-9499-ef151074ea4e",
   "metadata": {},
   "outputs": [],
   "source": [
    "import re\n",
    "import string\n",
    "import numpy as np\n",
    "from nltk.tokenize import word_tokenize\n",
    "import pandas as pd"
   ]
  },
  {
   "cell_type": "code",
   "execution_count": 19,
   "id": "b226ebff-8131-4b43-96a6-a6ecf33a8294",
   "metadata": {},
   "outputs": [],
   "source": [
    "doc_1 = \"Espresso é o armazenamento de dados distribuído consistente com a linha do tempo orientado a documentos do LinkedIn. Os clientes que buscam dados de perfil leem um subconjunto de campos de documentos inteiros do Espresso em diferentes casos de uso. Existem três partes principais do Espresso: roteadores, nós de armazenamento e gerenciamento de cluster. Os roteadores recebem solicitações de clientes online e encaminham as solicitações aos nós de armazenamento. Rotas que especificam o URI para obter o nome do banco de dados e procuram na tabela de roteamento os nós de armazenamento apropriados para os quais enviar solicitações. Ele também reúne os resultados e os envia de volta aos clientes. Um nó de armazenamento armazena e fornece documentos; fornece suporte a transações para documentos com a mesma chave de partição; e mantém o log de confirmação para replicação. O Espresso usa Apache Helix para monitorar e manter o cluster.\"\n",
    "doc_2 = \"Você terá um cliente acessando um sistema com acesso à várias bases dados e terá sistemas que estarão alimentado estas bases e fazendo sua gestão.\"\n",
    "\n",
    "corpus = np.array([doc_1, doc_2])"
   ]
  },
  {
   "cell_type": "markdown",
   "id": "77f35b20-18bb-4563-a75e-ff712445b5cb",
   "metadata": {},
   "source": [
    "### 1) Aplicar lowercase e remover caracteres"
   ]
  },
  {
   "cell_type": "code",
   "execution_count": 20,
   "id": "7d708b90-8a3b-4820-82c5-2f3dcfc4b240",
   "metadata": {},
   "outputs": [],
   "source": [
    "def clear_text(text):\n",
    "    pattern = \"[{}]\".format(string.punctuation)\n",
    "    text = [word.lower() for word in text]\n",
    "    text = [[re.sub(pattern, \"\", word) for word in words.split()] for words in text]\n",
    "    text = [[word for word in words if len(word)>1] for words in text]    \n",
    "    text = [' '.join(words) for words in text]\n",
    "    return np.array(text)"
   ]
  },
  {
   "cell_type": "code",
   "execution_count": 21,
   "id": "ec2a0c77-c5a5-4514-af39-ec8272be8c5a",
   "metadata": {},
   "outputs": [
    {
     "name": "stdout",
     "output_type": "stream",
     "text": [
      "['espresso armazenamento de dados distribuído consistente com linha do tempo orientado documentos do linkedin os clientes que buscam dados de perfil leem um subconjunto de campos de documentos inteiros do espresso em diferentes casos de uso existem três partes principais do espresso roteadores nós de armazenamento gerenciamento de cluster os roteadores recebem solicitações de clientes online encaminham as solicitações aos nós de armazenamento rotas que especificam uri para obter nome do banco de dados procuram na tabela de roteamento os nós de armazenamento apropriados para os quais enviar solicitações ele também reúne os resultados os envia de volta aos clientes um nó de armazenamento armazena fornece documentos fornece suporte transações para documentos com mesma chave de partição mantém log de confirmação para replicação espresso usa apache helix para monitorar manter cluster'\n",
      " 'você terá um cliente acessando um sistema com acesso várias bases dados terá sistemas que estarão alimentado estas bases fazendo sua gestão']\n"
     ]
    }
   ],
   "source": [
    "corpus_clear = clear_text(corpus)\n",
    "print(corpus_clear)"
   ]
  },
  {
   "cell_type": "markdown",
   "id": "f482ff6d-0afe-483b-a246-9e6f24c00688",
   "metadata": {},
   "source": [
    "### 2) Remover stopwords"
   ]
  },
  {
   "cell_type": "code",
   "execution_count": 22,
   "id": "312973ea-8f6b-442e-bec2-23c6df9ff054",
   "metadata": {},
   "outputs": [],
   "source": [
    "from nltk.corpus import stopwords\n",
    "def clear_stopwords(text, language):\n",
    "    filtered_text = []\n",
    "    for t in text:\n",
    "        words = [w for w in t.split() if not w in stopwords.words(language)]\n",
    "        words = ' '.join(words)\n",
    "        filtered_text.append(words)\n",
    "    return np.array(filtered_text)   "
   ]
  },
  {
   "cell_type": "code",
   "execution_count": 23,
   "id": "db08e613-92cd-4591-8616-f8ed581aeeac",
   "metadata": {},
   "outputs": [
    {
     "name": "stdout",
     "output_type": "stream",
     "text": [
      "['espresso armazenamento dados distribuído consistente linha tempo orientado documentos linkedin clientes buscam dados perfil leem subconjunto campos documentos inteiros espresso diferentes casos uso existem três partes principais espresso roteadores armazenamento gerenciamento cluster roteadores recebem solicitações clientes online encaminham solicitações armazenamento rotas especificam uri obter nome banco dados procuram tabela roteamento armazenamento apropriados quais enviar solicitações reúne resultados envia volta clientes nó armazenamento armazena fornece documentos fornece suporte transações documentos mesma chave partição mantém log confirmação replicação espresso usa apache helix monitorar manter cluster'\n",
      " 'cliente acessando sistema acesso várias bases dados sistemas estarão alimentado bases fazendo gestão']\n"
     ]
    },
    {
     "name": "stderr",
     "output_type": "stream",
     "text": [
      "[nltk_data] Downloading package stopwords to /home/jalves/nltk_data...\n",
      "[nltk_data]   Package stopwords is already up-to-date!\n"
     ]
    }
   ],
   "source": [
    "import nltk\n",
    "nltk.download('stopwords')\n",
    "corpus_filtered = clear_stopwords(corpus_clear, \"portuguese\")\n",
    "print(corpus_filtered)"
   ]
  },
  {
   "cell_type": "markdown",
   "id": "dd55d884-a26c-4098-bb25-c9c13a465522",
   "metadata": {},
   "source": [
    "### Usando a biblioteca sklearn"
   ]
  },
  {
   "cell_type": "code",
   "execution_count": 24,
   "id": "dc872573-b8a5-4c14-9d55-58f4e76dd6cd",
   "metadata": {},
   "outputs": [],
   "source": [
    "def create_dataframe(matrix, tokens):\n",
    "    doc_names = [f'text_{i+1}' for i, _ in enumerate(matrix)]\n",
    "    df = pd.DataFrame(data=matrix, index=doc_names, columns=tokens)\n",
    "    return(df)"
   ]
  },
  {
   "cell_type": "code",
   "execution_count": 25,
   "id": "a7a5fba4-ccdb-47aa-a2ff-9d6fe7182f3e",
   "metadata": {},
   "outputs": [
    {
     "data": {
      "text/html": [
       "<div>\n",
       "<style scoped>\n",
       "    .dataframe tbody tr th:only-of-type {\n",
       "        vertical-align: middle;\n",
       "    }\n",
       "\n",
       "    .dataframe tbody tr th {\n",
       "        vertical-align: top;\n",
       "    }\n",
       "\n",
       "    .dataframe thead th {\n",
       "        text-align: right;\n",
       "    }\n",
       "</style>\n",
       "<table border=\"1\" class=\"dataframe\">\n",
       "  <thead>\n",
       "    <tr style=\"text-align: right;\">\n",
       "      <th></th>\n",
       "      <th>acessando</th>\n",
       "      <th>acesso</th>\n",
       "      <th>alimentado</th>\n",
       "      <th>apache</th>\n",
       "      <th>apropriados</th>\n",
       "      <th>armazena</th>\n",
       "      <th>armazenamento</th>\n",
       "      <th>banco</th>\n",
       "      <th>bases</th>\n",
       "      <th>buscam</th>\n",
       "      <th>...</th>\n",
       "      <th>suporte</th>\n",
       "      <th>tabela</th>\n",
       "      <th>tempo</th>\n",
       "      <th>transações</th>\n",
       "      <th>três</th>\n",
       "      <th>uri</th>\n",
       "      <th>usa</th>\n",
       "      <th>uso</th>\n",
       "      <th>volta</th>\n",
       "      <th>várias</th>\n",
       "    </tr>\n",
       "  </thead>\n",
       "  <tbody>\n",
       "    <tr>\n",
       "      <th>text_1</th>\n",
       "      <td>0</td>\n",
       "      <td>0</td>\n",
       "      <td>0</td>\n",
       "      <td>1</td>\n",
       "      <td>1</td>\n",
       "      <td>1</td>\n",
       "      <td>5</td>\n",
       "      <td>1</td>\n",
       "      <td>0</td>\n",
       "      <td>1</td>\n",
       "      <td>...</td>\n",
       "      <td>1</td>\n",
       "      <td>1</td>\n",
       "      <td>1</td>\n",
       "      <td>1</td>\n",
       "      <td>1</td>\n",
       "      <td>1</td>\n",
       "      <td>1</td>\n",
       "      <td>1</td>\n",
       "      <td>1</td>\n",
       "      <td>0</td>\n",
       "    </tr>\n",
       "    <tr>\n",
       "      <th>text_2</th>\n",
       "      <td>1</td>\n",
       "      <td>1</td>\n",
       "      <td>1</td>\n",
       "      <td>0</td>\n",
       "      <td>0</td>\n",
       "      <td>0</td>\n",
       "      <td>0</td>\n",
       "      <td>0</td>\n",
       "      <td>2</td>\n",
       "      <td>0</td>\n",
       "      <td>...</td>\n",
       "      <td>0</td>\n",
       "      <td>0</td>\n",
       "      <td>0</td>\n",
       "      <td>0</td>\n",
       "      <td>0</td>\n",
       "      <td>0</td>\n",
       "      <td>0</td>\n",
       "      <td>0</td>\n",
       "      <td>0</td>\n",
       "      <td>1</td>\n",
       "    </tr>\n",
       "  </tbody>\n",
       "</table>\n",
       "<p>2 rows × 75 columns</p>\n",
       "</div>"
      ],
      "text/plain": [
       "        acessando  acesso  alimentado  apache  apropriados  armazena  \\\n",
       "text_1          0       0           0       1            1         1   \n",
       "text_2          1       1           1       0            0         0   \n",
       "\n",
       "        armazenamento  banco  bases  buscam  ...  suporte  tabela  tempo  \\\n",
       "text_1              5      1      0       1  ...        1       1      1   \n",
       "text_2              0      0      2       0  ...        0       0      0   \n",
       "\n",
       "        transações  três  uri  usa  uso  volta  várias  \n",
       "text_1           1     1    1    1    1      1       0  \n",
       "text_2           0     0    0    0    0      0       1  \n",
       "\n",
       "[2 rows x 75 columns]"
      ]
     },
     "execution_count": 25,
     "metadata": {},
     "output_type": "execute_result"
    }
   ],
   "source": [
    "from sklearn.feature_extraction.text import CountVectorizer\n",
    "from sklearn.metrics.pairwise import cosine_similarity\n",
    "\n",
    "vectorize = CountVectorizer()\n",
    "vector_matrix = vectorize.fit_transform(corpus_filtered)\n",
    "\n",
    "tokens = vectorize.get_feature_names()\n",
    "create_dataframe(vector_matrix.toarray(),tokens)\n",
    "\n"
   ]
  },
  {
   "cell_type": "code",
   "execution_count": 26,
   "id": "4f27a489-3352-4e42-98fa-8e02a3e43dff",
   "metadata": {},
   "outputs": [
    {
     "data": {
      "text/html": [
       "<div>\n",
       "<style scoped>\n",
       "    .dataframe tbody tr th:only-of-type {\n",
       "        vertical-align: middle;\n",
       "    }\n",
       "\n",
       "    .dataframe tbody tr th {\n",
       "        vertical-align: top;\n",
       "    }\n",
       "\n",
       "    .dataframe thead th {\n",
       "        text-align: right;\n",
       "    }\n",
       "</style>\n",
       "<table border=\"1\" class=\"dataframe\">\n",
       "  <thead>\n",
       "    <tr style=\"text-align: right;\">\n",
       "      <th></th>\n",
       "      <th>text_1</th>\n",
       "      <th>text_2</th>\n",
       "    </tr>\n",
       "  </thead>\n",
       "  <tbody>\n",
       "    <tr>\n",
       "      <th>text_1</th>\n",
       "      <td>1.000000</td>\n",
       "      <td>0.063036</td>\n",
       "    </tr>\n",
       "    <tr>\n",
       "      <th>text_2</th>\n",
       "      <td>0.063036</td>\n",
       "      <td>1.000000</td>\n",
       "    </tr>\n",
       "  </tbody>\n",
       "</table>\n",
       "</div>"
      ],
      "text/plain": [
       "          text_1    text_2\n",
       "text_1  1.000000  0.063036\n",
       "text_2  0.063036  1.000000"
      ]
     },
     "execution_count": 26,
     "metadata": {},
     "output_type": "execute_result"
    }
   ],
   "source": [
    "cosine_similarity_matrix = cosine_similarity(vector_matrix)\n",
    "create_dataframe(cosine_similarity_matrix,['text_1','text_2'])"
   ]
  },
  {
   "cell_type": "code",
   "execution_count": null,
   "id": "73d9a53f-97a6-4426-aedc-7bbbd7b27c6a",
   "metadata": {},
   "outputs": [],
   "source": []
  }
 ],
 "metadata": {
  "kernelspec": {
   "display_name": "Python 3",
   "language": "python",
   "name": "python3"
  },
  "language_info": {
   "codemirror_mode": {
    "name": "ipython",
    "version": 3
   },
   "file_extension": ".py",
   "mimetype": "text/x-python",
   "name": "python",
   "nbconvert_exporter": "python",
   "pygments_lexer": "ipython3",
   "version": "3.6.9"
  }
 },
 "nbformat": 4,
 "nbformat_minor": 5
}
