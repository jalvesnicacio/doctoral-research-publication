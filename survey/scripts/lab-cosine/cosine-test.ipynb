{
 "cells": [
  {
   "cell_type": "code",
   "execution_count": 65,
   "id": "54c17aa9-94b4-4308-8b07-3e64ed569a15",
   "metadata": {},
   "outputs": [],
   "source": [
    "import pandas as pd\n",
    "from sklearn.feature_extraction.text import TfidfVectorizer\n",
    "from sklearn.metrics.pairwise import cosine_similarity\n",
    "import numpy as np\n",
    "import re\n",
    "import string\n",
    "from nltk.tokenize import word_tokenize"
   ]
  },
  {
   "cell_type": "code",
   "execution_count": 66,
   "id": "19b6d880-601e-45f8-b514-5c2759bd599f",
   "metadata": {},
   "outputs": [],
   "source": [
    "doc_1 = \"The diagram describes a system architecture in a simple overview. The entity cordinator access the Kafka platform as the the replicas sets do too. Each replica set is composed by two elements: the cluster manager that access the HDFS dabase and the Backend Servers that access the Blobstore database.\"\n",
    "doc_2 = \"MetricsDB has 3 main components. Cluster Manager is responsible for assigning partitions to backend servers. HDFS is used to store mappings from partitions to servers. Backend Servers are responsible for processing metrics for a small number of partitions. Each Backend Server keeps the latest two hours of data for all metrics in memory and they checkpoint in-memory data every two hours to durable storage, Blobstore.  Coordinators are responsible for routing requests to all replica sets and validates desired quorum constraints are met.  MetricsDB is multi-zone compliant. MetricsDB has a replication factor of three. Apache Kafka producer has an option to batch requests, which helped us reduce the number of requests to the queue and storage.\"\n",
    "data = [doc_1, doc_2]"
   ]
  },
  {
   "cell_type": "markdown",
   "id": "4cc2afbd-5281-411c-9b0c-293f3cb37f28",
   "metadata": {},
   "source": [
    "### aplicar lowercase e remover caracteres"
   ]
  },
  {
   "cell_type": "code",
   "execution_count": 67,
   "id": "d77f93a8-b016-4f40-8138-fbfa56f38204",
   "metadata": {},
   "outputs": [],
   "source": [
    "def clear_text(text):\n",
    "    pattern = \"[{}]\".format(string.punctuation)\n",
    "    text = [word.lower() for word in text]\n",
    "    text = [[re.sub(pattern, \"\", word) for word in words.split()] for words in text]\n",
    "    text = [[word for word in words if len(word)>1] for words in text]    \n",
    "    text = [' '.join(words) for words in text]\n",
    "    return np.array(text)"
   ]
  },
  {
   "cell_type": "code",
   "execution_count": 68,
   "id": "7faccd78-7170-4728-89d4-ca05b02bfe81",
   "metadata": {},
   "outputs": [
    {
     "name": "stdout",
     "output_type": "stream",
     "text": [
      "-- Antes --\n",
      "['The diagram describes a system architecture in a simple overview. The entity cordinator access the Kafka platform as the the replicas sets do too. Each replica set is composed by two elements: the cluster manager that access the HDFS dabase and the Backend Servers that access the Blobstore database.', 'MetricsDB has 3 main components. Cluster Manager is responsible for assigning partitions to backend servers. HDFS is used to store mappings from partitions to servers. Backend Servers are responsible for processing metrics for a small number of partitions. Each Backend Server keeps the latest two hours of data for all metrics in memory and they checkpoint in-memory data every two hours to durable storage, Blobstore.  Coordinators are responsible for routing requests to all replica sets and validates desired quorum constraints are met.  MetricsDB is multi-zone compliant. MetricsDB has a replication factor of three. Apache Kafka producer has an option to batch requests, which helped us reduce the number of requests to the queue and storage.']\n",
      "\n",
      "-- Depois --\n",
      "['the diagram describes system architecture in simple overview the entity cordinator access the kafka platform as the the replicas sets do too each replica set is composed by two elements the cluster manager that access the hdfs dabase and the backend servers that access the blobstore database'\n",
      " 'metricsdb has main components cluster manager is responsible for assigning partitions to backend servers hdfs is used to store mappings from partitions to servers backend servers are responsible for processing metrics for small number of partitions each backend server keeps the latest two hours of data for all metrics in memory and they checkpoint inmemory data every two hours to durable storage blobstore coordinators are responsible for routing requests to all replica sets and validates desired quorum constraints are met metricsdb is multizone compliant metricsdb has replication factor of three apache kafka producer has an option to batch requests which helped us reduce the number of requests to the queue and storage']\n"
     ]
    }
   ],
   "source": [
    "data_clear = clear_text(data)\n",
    "\n",
    "print('-- Antes --')\n",
    "print(data)\n",
    "print()\n",
    "print('-- Depois --')\n",
    "print(data_clear)"
   ]
  },
  {
   "cell_type": "code",
   "execution_count": 69,
   "id": "1a318f13-9966-46a9-8c23-e38785c55285",
   "metadata": {},
   "outputs": [],
   "source": [
    "#word_tokenize(data_clear)"
   ]
  },
  {
   "cell_type": "code",
   "execution_count": 70,
   "id": "9a2987a4-3dca-4a25-bdbd-c88f957c0c9c",
   "metadata": {},
   "outputs": [],
   "source": [
    "#from nltk.corpus import stopwords\n",
    "\n",
    "#filtered_words = [t for t in word_tokenize(data_clear) if not t in stopwords.words(\"english\")]"
   ]
  },
  {
   "cell_type": "code",
   "execution_count": 71,
   "id": "c8c83093-5e60-421f-9c0e-9f0043ddd499",
   "metadata": {},
   "outputs": [],
   "source": [
    "def create_dataframe(matrix, tokens):\n",
    "    \n",
    "    doc_names = [f'doc_{i+1}' for i, _ in enumerate(matrix)]\n",
    "    df = pd.DataFrame(data=matrix, index=doc_names, columns=tokens)\n",
    "    return(df)"
   ]
  },
  {
   "cell_type": "code",
   "execution_count": 72,
   "id": "faa3d383-17b9-4d0c-adf0-9464283c62e8",
   "metadata": {},
   "outputs": [
    {
     "data": {
      "text/html": [
       "<div>\n",
       "<style scoped>\n",
       "    .dataframe tbody tr th:only-of-type {\n",
       "        vertical-align: middle;\n",
       "    }\n",
       "\n",
       "    .dataframe tbody tr th {\n",
       "        vertical-align: top;\n",
       "    }\n",
       "\n",
       "    .dataframe thead th {\n",
       "        text-align: right;\n",
       "    }\n",
       "</style>\n",
       "<table border=\"1\" class=\"dataframe\">\n",
       "  <thead>\n",
       "    <tr style=\"text-align: right;\">\n",
       "      <th></th>\n",
       "      <th>access</th>\n",
       "      <th>all</th>\n",
       "      <th>an</th>\n",
       "      <th>and</th>\n",
       "      <th>apache</th>\n",
       "      <th>architecture</th>\n",
       "      <th>are</th>\n",
       "      <th>as</th>\n",
       "      <th>assigning</th>\n",
       "      <th>backend</th>\n",
       "      <th>...</th>\n",
       "      <th>they</th>\n",
       "      <th>three</th>\n",
       "      <th>to</th>\n",
       "      <th>too</th>\n",
       "      <th>two</th>\n",
       "      <th>us</th>\n",
       "      <th>used</th>\n",
       "      <th>validates</th>\n",
       "      <th>which</th>\n",
       "      <th>zone</th>\n",
       "    </tr>\n",
       "  </thead>\n",
       "  <tbody>\n",
       "    <tr>\n",
       "      <th>doc_1</th>\n",
       "      <td>0.335215</td>\n",
       "      <td>0.000000</td>\n",
       "      <td>0.000000</td>\n",
       "      <td>0.079503</td>\n",
       "      <td>0.000000</td>\n",
       "      <td>0.111738</td>\n",
       "      <td>0.000000</td>\n",
       "      <td>0.111738</td>\n",
       "      <td>0.000000</td>\n",
       "      <td>0.079503</td>\n",
       "      <td>...</td>\n",
       "      <td>0.000000</td>\n",
       "      <td>0.000000</td>\n",
       "      <td>0.000000</td>\n",
       "      <td>0.111738</td>\n",
       "      <td>0.079503</td>\n",
       "      <td>0.000000</td>\n",
       "      <td>0.000000</td>\n",
       "      <td>0.000000</td>\n",
       "      <td>0.000000</td>\n",
       "      <td>0.000000</td>\n",
       "    </tr>\n",
       "    <tr>\n",
       "      <th>doc_2</th>\n",
       "      <td>0.000000</td>\n",
       "      <td>0.128597</td>\n",
       "      <td>0.064298</td>\n",
       "      <td>0.137246</td>\n",
       "      <td>0.064298</td>\n",
       "      <td>0.000000</td>\n",
       "      <td>0.192895</td>\n",
       "      <td>0.000000</td>\n",
       "      <td>0.064298</td>\n",
       "      <td>0.137246</td>\n",
       "      <td>...</td>\n",
       "      <td>0.064298</td>\n",
       "      <td>0.064298</td>\n",
       "      <td>0.450088</td>\n",
       "      <td>0.000000</td>\n",
       "      <td>0.091497</td>\n",
       "      <td>0.064298</td>\n",
       "      <td>0.064298</td>\n",
       "      <td>0.064298</td>\n",
       "      <td>0.064298</td>\n",
       "      <td>0.064298</td>\n",
       "    </tr>\n",
       "  </tbody>\n",
       "</table>\n",
       "<p>2 rows × 91 columns</p>\n",
       "</div>"
      ],
      "text/plain": [
       "         access       all        an       and    apache  architecture  \\\n",
       "doc_1  0.335215  0.000000  0.000000  0.079503  0.000000      0.111738   \n",
       "doc_2  0.000000  0.128597  0.064298  0.137246  0.064298      0.000000   \n",
       "\n",
       "            are        as  assigning   backend  ...      they     three  \\\n",
       "doc_1  0.000000  0.111738   0.000000  0.079503  ...  0.000000  0.000000   \n",
       "doc_2  0.192895  0.000000   0.064298  0.137246  ...  0.064298  0.064298   \n",
       "\n",
       "             to       too       two        us      used  validates     which  \\\n",
       "doc_1  0.000000  0.111738  0.079503  0.000000  0.000000   0.000000  0.000000   \n",
       "doc_2  0.450088  0.000000  0.091497  0.064298  0.064298   0.064298  0.064298   \n",
       "\n",
       "           zone  \n",
       "doc_1  0.000000  \n",
       "doc_2  0.064298  \n",
       "\n",
       "[2 rows x 91 columns]"
      ]
     },
     "execution_count": 72,
     "metadata": {},
     "output_type": "execute_result"
    }
   ],
   "source": [
    "Tfidf_vect = TfidfVectorizer()\n",
    "vector_matrix = Tfidf_vect.fit_transform(data)\n",
    "\n",
    "tokens = Tfidf_vect.get_feature_names()\n",
    "\n",
    "create_dataframe(vector_matrix.toarray(),tokens)"
   ]
  },
  {
   "cell_type": "code",
   "execution_count": 73,
   "id": "dbf4a0a2-3410-4827-94ba-498e2790e4a5",
   "metadata": {},
   "outputs": [
    {
     "data": {
      "text/html": [
       "<div>\n",
       "<style scoped>\n",
       "    .dataframe tbody tr th:only-of-type {\n",
       "        vertical-align: middle;\n",
       "    }\n",
       "\n",
       "    .dataframe tbody tr th {\n",
       "        vertical-align: top;\n",
       "    }\n",
       "\n",
       "    .dataframe thead th {\n",
       "        text-align: right;\n",
       "    }\n",
       "</style>\n",
       "<table border=\"1\" class=\"dataframe\">\n",
       "  <thead>\n",
       "    <tr style=\"text-align: right;\">\n",
       "      <th></th>\n",
       "      <th>doc_1</th>\n",
       "      <th>doc_2</th>\n",
       "    </tr>\n",
       "  </thead>\n",
       "  <tbody>\n",
       "    <tr>\n",
       "      <th>doc_1</th>\n",
       "      <td>1.000000</td>\n",
       "      <td>0.185495</td>\n",
       "    </tr>\n",
       "    <tr>\n",
       "      <th>doc_2</th>\n",
       "      <td>0.185495</td>\n",
       "      <td>1.000000</td>\n",
       "    </tr>\n",
       "  </tbody>\n",
       "</table>\n",
       "</div>"
      ],
      "text/plain": [
       "          doc_1     doc_2\n",
       "doc_1  1.000000  0.185495\n",
       "doc_2  0.185495  1.000000"
      ]
     },
     "execution_count": 73,
     "metadata": {},
     "output_type": "execute_result"
    }
   ],
   "source": [
    "cosine_similarity_matrix = cosine_similarity(vector_matrix)\n",
    "create_dataframe(cosine_similarity_matrix,['doc_1','doc_2'])"
   ]
  },
  {
   "cell_type": "code",
   "execution_count": null,
   "id": "39bf499d-4f50-40c8-b014-218b0e6411e2",
   "metadata": {},
   "outputs": [],
   "source": []
  }
 ],
 "metadata": {
  "kernelspec": {
   "display_name": "Python 3",
   "language": "python",
   "name": "python3"
  },
  "language_info": {
   "codemirror_mode": {
    "name": "ipython",
    "version": 3
   },
   "file_extension": ".py",
   "mimetype": "text/x-python",
   "name": "python",
   "nbconvert_exporter": "python",
   "pygments_lexer": "ipython3",
   "version": "3.6.9"
  }
 },
 "nbformat": 4,
 "nbformat_minor": 5
}
