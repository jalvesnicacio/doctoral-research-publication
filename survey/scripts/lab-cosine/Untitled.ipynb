{
 "cells": [
  {
   "cell_type": "code",
   "execution_count": 81,
   "id": "94919e63-4cbf-43d5-b5a8-13593b3000cd",
   "metadata": {},
   "outputs": [],
   "source": [
    "import string\n",
    "import re\n",
    "import numpy as np\n",
    "from nltk.corpus import stopwords"
   ]
  },
  {
   "cell_type": "code",
   "execution_count": 82,
   "id": "36283935-3bd7-4272-9a85-bee053993298",
   "metadata": {},
   "outputs": [],
   "source": [
    "def clear_text(text):\n",
    "    pattern = \"[{}]\".format(string.punctuation)\n",
    "    text = text.lower()\n",
    "    text = re.sub(pattern, \"\", text)\n",
    "    return text"
   ]
  },
  {
   "cell_type": "code",
   "execution_count": 83,
   "id": "397e6ebe-976f-4848-b243-5e07c2aadcf7",
   "metadata": {},
   "outputs": [],
   "source": [
    "def clear_stopwords(text, language):\n",
    "    words = [word for word in text.split() if not word in stopwords.words(language)]\n",
    "    return words "
   ]
  },
  {
   "cell_type": "code",
   "execution_count": 84,
   "id": "5671ee54-4f65-450b-95e8-6a036ad531e4",
   "metadata": {},
   "outputs": [],
   "source": [
    "def Jaccard_Similarity(doc1, doc2, language=None): \n",
    "    \n",
    "    doc1 = clear_text(doc1)\n",
    "    doc2 = clear_text(doc2)\n",
    "    \n",
    "    # List the unique words in a document\n",
    "    if language:\n",
    "        words_doc1 = set(clear_stopwords(doc1, language))\n",
    "        words_doc2 = set(clear_stopwords(doc2, language))\n",
    "        print(words_doc1)\n",
    "    else:\n",
    "        words_doc1 = set(doc1.split())\n",
    "        words_doc2 = set(doc2.split())\n",
    "        \n",
    "    \n",
    "    # Find the intersection of words list of doc1 & doc2\n",
    "    intersection = words_doc1.intersection(words_doc2)\n",
    "    \n",
    "    # Find the union of words list of doc1 & doc2\n",
    "    union = words_doc1.union(words_doc2)\n",
    "    \n",
    "    # Calculate Jaccard similarity score \n",
    "    # using length of intersection set divided by length of union set\n",
    "    print('J(doc1,doc2) = '+ str(len(intersection)) + ' / ' + str(len(union)))\n",
    "    return float(len(intersection)) / len(union)\n"
   ]
  },
  {
   "cell_type": "code",
   "execution_count": 85,
   "id": "61596f33-f45c-4d6d-919d-9fe48b2b8766",
   "metadata": {},
   "outputs": [
    {
     "name": "stdout",
     "output_type": "stream",
     "text": [
      "J(doc1,doc2) = 13 / 89\n"
     ]
    },
    {
     "data": {
      "text/plain": [
       "0.14606741573033707"
      ]
     },
     "execution_count": 85,
     "metadata": {},
     "output_type": "execute_result"
    }
   ],
   "source": [
    "doc_1 = \"Espresso is LinkedIn's document-oriented timeline-consistent distributed data store. Clients fetching profile data read a subset of fields of whole documents from Espresso in different use cases. There are three main parts of Espresso: routers, storage nodes and cluster management. Routers receive requests from online clients and forward the requests to storage nodes. Routes also inspect URI to get the database name and look up the routing table for appropriate storage nodes to send requests to. It also assembles the results and sends it back to clients. A storage node stores and serves documents; provides transactions support for documents with the same partition key; and maintains commit logs for replication. Espresso uses Apache Helix to monitor and maintain the cluster.\"\n",
    "doc_2 = \"There are clients accessing something stored in a cluster of storage nodes through routers. I don't really understand the databus relays and downstream parts.\"\n",
    "\n",
    "#print(clear_text(doc_1))\n",
    "Jaccard_Similarity(doc_1,doc_2)"
   ]
  },
  {
   "cell_type": "code",
   "execution_count": null,
   "id": "65bcf717-81b9-4cdc-91ea-4d620502dd00",
   "metadata": {},
   "outputs": [],
   "source": []
  }
 ],
 "metadata": {
  "kernelspec": {
   "display_name": "Python 3",
   "language": "python",
   "name": "python3"
  },
  "language_info": {
   "codemirror_mode": {
    "name": "ipython",
    "version": 3
   },
   "file_extension": ".py",
   "mimetype": "text/x-python",
   "name": "python",
   "nbconvert_exporter": "python",
   "pygments_lexer": "ipython3",
   "version": "3.6.9"
  }
 },
 "nbformat": 4,
 "nbformat_minor": 5
}
